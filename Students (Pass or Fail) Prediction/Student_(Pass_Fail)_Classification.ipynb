{
  "nbformat": 4,
  "nbformat_minor": 0,
  "metadata": {
    "colab": {
      "name": "Student (Pass / Fail) Classification.ipynb",
      "provenance": []
    },
    "kernelspec": {
      "name": "python3",
      "display_name": "Python 3"
    },
    "language_info": {
      "name": "python"
    }
  },
  "cells": [
    {
      "cell_type": "code",
      "metadata": {
        "id": "-RbxcxBOfNYU"
      },
      "source": [
        "import pandas as pd\n",
        "import numpy as np\n",
        "import matplotlib.pyplot as plt\n",
        "%matplotlib inline\n",
        "import seaborn as sns"
      ],
      "execution_count": 13,
      "outputs": []
    },
    {
      "cell_type": "code",
      "metadata": {
        "colab": {
          "base_uri": "https://localhost:8080/",
          "height": 226
        },
        "id": "r0cJTISUfzq7",
        "outputId": "8f483335-b69e-499e-93d9-ea03b1ac4d79"
      },
      "source": [
        "data1 = pd.read_csv(\"/content/drive/MyDrive/DATASETS/studentData.csv\", sep = ';')\n",
        "data1.head()"
      ],
      "execution_count": 14,
      "outputs": [
        {
          "output_type": "execute_result",
          "data": {
            "text/html": [
              "<div>\n",
              "<style scoped>\n",
              "    .dataframe tbody tr th:only-of-type {\n",
              "        vertical-align: middle;\n",
              "    }\n",
              "\n",
              "    .dataframe tbody tr th {\n",
              "        vertical-align: top;\n",
              "    }\n",
              "\n",
              "    .dataframe thead th {\n",
              "        text-align: right;\n",
              "    }\n",
              "</style>\n",
              "<table border=\"1\" class=\"dataframe\">\n",
              "  <thead>\n",
              "    <tr style=\"text-align: right;\">\n",
              "      <th></th>\n",
              "      <th>AcademicYear</th>\n",
              "      <th>ExtrinsicMotivation</th>\n",
              "      <th>GroupWork</th>\n",
              "      <th>IntrinsicMotivation</th>\n",
              "      <th>SelfEfficacy</th>\n",
              "      <th>SelfRegulation</th>\n",
              "      <th>StudyEffort</th>\n",
              "      <th>StudyTime</th>\n",
              "      <th>Openness</th>\n",
              "      <th>Conscientiousness</th>\n",
              "      <th>HighSchoolAverage</th>\n",
              "      <th>HighSchoolEnglish</th>\n",
              "      <th>HighSchoolMaths</th>\n",
              "      <th>Sex</th>\n",
              "      <th>Age</th>\n",
              "      <th>Discipline</th>\n",
              "      <th>Course</th>\n",
              "      <th>Modality</th>\n",
              "      <th>LearningStyle</th>\n",
              "      <th>id</th>\n",
              "      <th>Label</th>\n",
              "    </tr>\n",
              "  </thead>\n",
              "  <tbody>\n",
              "    <tr>\n",
              "      <th>0</th>\n",
              "      <td>2017.0</td>\n",
              "      <td>7.2</td>\n",
              "      <td>7.5</td>\n",
              "      <td>5.2</td>\n",
              "      <td>8.9</td>\n",
              "      <td>NaN</td>\n",
              "      <td>4.4</td>\n",
              "      <td>5.3</td>\n",
              "      <td>7.9</td>\n",
              "      <td>6.6</td>\n",
              "      <td>67.9</td>\n",
              "      <td>74.0</td>\n",
              "      <td>63.0</td>\n",
              "      <td>male</td>\n",
              "      <td>19.0</td>\n",
              "      <td>Business</td>\n",
              "      <td>BusinessWithIT</td>\n",
              "      <td>Visual</td>\n",
              "      <td>Deep</td>\n",
              "      <td>1</td>\n",
              "      <td>Pass</td>\n",
              "    </tr>\n",
              "    <tr>\n",
              "      <th>1</th>\n",
              "      <td>2017.0</td>\n",
              "      <td>6.6</td>\n",
              "      <td>5.5</td>\n",
              "      <td>2.3</td>\n",
              "      <td>2.8</td>\n",
              "      <td>NaN</td>\n",
              "      <td>3.1</td>\n",
              "      <td>4.4</td>\n",
              "      <td>2.8</td>\n",
              "      <td>3.3</td>\n",
              "      <td>66.1</td>\n",
              "      <td>63.0</td>\n",
              "      <td>54.0</td>\n",
              "      <td>male</td>\n",
              "      <td>19.0</td>\n",
              "      <td>Business</td>\n",
              "      <td>BusinessWithIT</td>\n",
              "      <td>Kinaesthetic</td>\n",
              "      <td>Strategic</td>\n",
              "      <td>4</td>\n",
              "      <td>Fail</td>\n",
              "    </tr>\n",
              "    <tr>\n",
              "      <th>2</th>\n",
              "      <td>2017.0</td>\n",
              "      <td>8.5</td>\n",
              "      <td>2.3</td>\n",
              "      <td>4.3</td>\n",
              "      <td>4.3</td>\n",
              "      <td>NaN</td>\n",
              "      <td>6.3</td>\n",
              "      <td>5.3</td>\n",
              "      <td>3.9</td>\n",
              "      <td>4.9</td>\n",
              "      <td>57.3</td>\n",
              "      <td>63.0</td>\n",
              "      <td>48.0</td>\n",
              "      <td>male</td>\n",
              "      <td>22.0</td>\n",
              "      <td>Computing</td>\n",
              "      <td>Computing</td>\n",
              "      <td>Visual</td>\n",
              "      <td>Shallow</td>\n",
              "      <td>5</td>\n",
              "      <td>Fail</td>\n",
              "    </tr>\n",
              "    <tr>\n",
              "      <th>3</th>\n",
              "      <td>2017.0</td>\n",
              "      <td>9.1</td>\n",
              "      <td>6.7</td>\n",
              "      <td>4.6</td>\n",
              "      <td>5.1</td>\n",
              "      <td>NaN</td>\n",
              "      <td>6.6</td>\n",
              "      <td>6.9</td>\n",
              "      <td>4.0</td>\n",
              "      <td>5.6</td>\n",
              "      <td>52.5</td>\n",
              "      <td>55.0</td>\n",
              "      <td>43.0</td>\n",
              "      <td>male</td>\n",
              "      <td>18.0</td>\n",
              "      <td>Computing</td>\n",
              "      <td>Computing</td>\n",
              "      <td>Visual</td>\n",
              "      <td>Shallow</td>\n",
              "      <td>6</td>\n",
              "      <td>Fail</td>\n",
              "    </tr>\n",
              "    <tr>\n",
              "      <th>4</th>\n",
              "      <td>2017.0</td>\n",
              "      <td>7.1</td>\n",
              "      <td>0.8</td>\n",
              "      <td>4.7</td>\n",
              "      <td>3.8</td>\n",
              "      <td>NaN</td>\n",
              "      <td>6.4</td>\n",
              "      <td>5.6</td>\n",
              "      <td>4.2</td>\n",
              "      <td>4.9</td>\n",
              "      <td>66.6</td>\n",
              "      <td>71.0</td>\n",
              "      <td>51.0</td>\n",
              "      <td>male</td>\n",
              "      <td>24.0</td>\n",
              "      <td>Computing</td>\n",
              "      <td>Computing</td>\n",
              "      <td>Visual</td>\n",
              "      <td>Shallow</td>\n",
              "      <td>10</td>\n",
              "      <td>Fail</td>\n",
              "    </tr>\n",
              "  </tbody>\n",
              "</table>\n",
              "</div>"
            ],
            "text/plain": [
              "   AcademicYear  ExtrinsicMotivation  GroupWork  ...  LearningStyle  id  Label\n",
              "0        2017.0                  7.2        7.5  ...           Deep   1   Pass\n",
              "1        2017.0                  6.6        5.5  ...      Strategic   4   Fail\n",
              "2        2017.0                  8.5        2.3  ...        Shallow   5   Fail\n",
              "3        2017.0                  9.1        6.7  ...        Shallow   6   Fail\n",
              "4        2017.0                  7.1        0.8  ...        Shallow  10   Fail\n",
              "\n",
              "[5 rows x 21 columns]"
            ]
          },
          "metadata": {},
          "execution_count": 14
        }
      ]
    },
    {
      "cell_type": "code",
      "metadata": {
        "colab": {
          "base_uri": "https://localhost:8080/"
        },
        "id": "DXXuEdC-f7sH",
        "outputId": "41e32660-6bfd-4f7a-961f-ca526649aadf"
      },
      "source": [
        "data1.shape"
      ],
      "execution_count": 15,
      "outputs": [
        {
          "output_type": "execute_result",
          "data": {
            "text/plain": [
              "(1240, 21)"
            ]
          },
          "metadata": {},
          "execution_count": 15
        }
      ]
    },
    {
      "cell_type": "code",
      "metadata": {
        "colab": {
          "base_uri": "https://localhost:8080/"
        },
        "id": "RidgxObKleyw",
        "outputId": "f392c94f-90ba-4a6a-f26f-12c2e6c8e55c"
      },
      "source": [
        "data1['Label'].value_counts()"
      ],
      "execution_count": 16,
      "outputs": [
        {
          "output_type": "execute_result",
          "data": {
            "text/plain": [
              "Pass    721\n",
              "Fail    519\n",
              "Name: Label, dtype: int64"
            ]
          },
          "metadata": {},
          "execution_count": 16
        }
      ]
    },
    {
      "cell_type": "code",
      "metadata": {
        "colab": {
          "base_uri": "https://localhost:8080/"
        },
        "id": "w9AVfzC0lnJr",
        "outputId": "703f2b8d-c3eb-4a0f-9279-17a787b0082e"
      },
      "source": [
        "data1.info()"
      ],
      "execution_count": 17,
      "outputs": [
        {
          "output_type": "stream",
          "name": "stdout",
          "text": [
            "<class 'pandas.core.frame.DataFrame'>\n",
            "RangeIndex: 1240 entries, 0 to 1239\n",
            "Data columns (total 21 columns):\n",
            " #   Column               Non-Null Count  Dtype  \n",
            "---  ------               --------------  -----  \n",
            " 0   AcademicYear         1235 non-null   float64\n",
            " 1   ExtrinsicMotivation  1239 non-null   float64\n",
            " 2   GroupWork            1239 non-null   float64\n",
            " 3   IntrinsicMotivation  1238 non-null   float64\n",
            " 4   SelfEfficacy         1239 non-null   float64\n",
            " 5   SelfRegulation       304 non-null    float64\n",
            " 6   StudyEffort          1239 non-null   float64\n",
            " 7   StudyTime            1238 non-null   float64\n",
            " 8   Openness             1240 non-null   float64\n",
            " 9   Conscientiousness    1240 non-null   float64\n",
            " 10  HighSchoolAverage    1235 non-null   float64\n",
            " 11  HighSchoolEnglish    1235 non-null   float64\n",
            " 12  HighSchoolMaths      1235 non-null   float64\n",
            " 13  Sex                  1235 non-null   object \n",
            " 14  Age                  1235 non-null   float64\n",
            " 15  Discipline           1235 non-null   object \n",
            " 16  Course               1235 non-null   object \n",
            " 17  Modality             1134 non-null   object \n",
            " 18  LearningStyle        1240 non-null   object \n",
            " 19  id                   1240 non-null   int64  \n",
            " 20  Label                1240 non-null   object \n",
            "dtypes: float64(14), int64(1), object(6)\n",
            "memory usage: 203.6+ KB\n"
          ]
        }
      ]
    },
    {
      "cell_type": "code",
      "metadata": {
        "colab": {
          "base_uri": "https://localhost:8080/"
        },
        "id": "5Epbc3TYlub5",
        "outputId": "aea57287-5b87-40f1-e6a6-eb9bc23e694f"
      },
      "source": [
        "data1.isnull().sum()"
      ],
      "execution_count": 18,
      "outputs": [
        {
          "output_type": "execute_result",
          "data": {
            "text/plain": [
              "AcademicYear             5\n",
              "ExtrinsicMotivation      1\n",
              "GroupWork                1\n",
              "IntrinsicMotivation      2\n",
              "SelfEfficacy             1\n",
              "SelfRegulation         936\n",
              "StudyEffort              1\n",
              "StudyTime                2\n",
              "Openness                 0\n",
              "Conscientiousness        0\n",
              "HighSchoolAverage        5\n",
              "HighSchoolEnglish        5\n",
              "HighSchoolMaths          5\n",
              "Sex                      5\n",
              "Age                      5\n",
              "Discipline               5\n",
              "Course                   5\n",
              "Modality               106\n",
              "LearningStyle            0\n",
              "id                       0\n",
              "Label                    0\n",
              "dtype: int64"
            ]
          },
          "metadata": {},
          "execution_count": 18
        }
      ]
    },
    {
      "cell_type": "code",
      "metadata": {
        "id": "ot6BSYBbl2bs"
      },
      "source": [
        "# Drop the columns which is not relevant\n",
        "\n",
        "data1 = data1.drop(columns=['id', 'AcademicYear'])"
      ],
      "execution_count": 19,
      "outputs": []
    },
    {
      "cell_type": "code",
      "metadata": {
        "colab": {
          "base_uri": "https://localhost:8080/",
          "height": 226
        },
        "id": "nHxwK4qIoWgT",
        "outputId": "2759ca9d-5fd7-486b-f4af-51effdde3f25"
      },
      "source": [
        "data1.head()"
      ],
      "execution_count": 20,
      "outputs": [
        {
          "output_type": "execute_result",
          "data": {
            "text/html": [
              "<div>\n",
              "<style scoped>\n",
              "    .dataframe tbody tr th:only-of-type {\n",
              "        vertical-align: middle;\n",
              "    }\n",
              "\n",
              "    .dataframe tbody tr th {\n",
              "        vertical-align: top;\n",
              "    }\n",
              "\n",
              "    .dataframe thead th {\n",
              "        text-align: right;\n",
              "    }\n",
              "</style>\n",
              "<table border=\"1\" class=\"dataframe\">\n",
              "  <thead>\n",
              "    <tr style=\"text-align: right;\">\n",
              "      <th></th>\n",
              "      <th>ExtrinsicMotivation</th>\n",
              "      <th>GroupWork</th>\n",
              "      <th>IntrinsicMotivation</th>\n",
              "      <th>SelfEfficacy</th>\n",
              "      <th>SelfRegulation</th>\n",
              "      <th>StudyEffort</th>\n",
              "      <th>StudyTime</th>\n",
              "      <th>Openness</th>\n",
              "      <th>Conscientiousness</th>\n",
              "      <th>HighSchoolAverage</th>\n",
              "      <th>HighSchoolEnglish</th>\n",
              "      <th>HighSchoolMaths</th>\n",
              "      <th>Sex</th>\n",
              "      <th>Age</th>\n",
              "      <th>Discipline</th>\n",
              "      <th>Course</th>\n",
              "      <th>Modality</th>\n",
              "      <th>LearningStyle</th>\n",
              "      <th>Label</th>\n",
              "    </tr>\n",
              "  </thead>\n",
              "  <tbody>\n",
              "    <tr>\n",
              "      <th>0</th>\n",
              "      <td>7.2</td>\n",
              "      <td>7.5</td>\n",
              "      <td>5.2</td>\n",
              "      <td>8.9</td>\n",
              "      <td>NaN</td>\n",
              "      <td>4.4</td>\n",
              "      <td>5.3</td>\n",
              "      <td>7.9</td>\n",
              "      <td>6.6</td>\n",
              "      <td>67.9</td>\n",
              "      <td>74.0</td>\n",
              "      <td>63.0</td>\n",
              "      <td>male</td>\n",
              "      <td>19.0</td>\n",
              "      <td>Business</td>\n",
              "      <td>BusinessWithIT</td>\n",
              "      <td>Visual</td>\n",
              "      <td>Deep</td>\n",
              "      <td>Pass</td>\n",
              "    </tr>\n",
              "    <tr>\n",
              "      <th>1</th>\n",
              "      <td>6.6</td>\n",
              "      <td>5.5</td>\n",
              "      <td>2.3</td>\n",
              "      <td>2.8</td>\n",
              "      <td>NaN</td>\n",
              "      <td>3.1</td>\n",
              "      <td>4.4</td>\n",
              "      <td>2.8</td>\n",
              "      <td>3.3</td>\n",
              "      <td>66.1</td>\n",
              "      <td>63.0</td>\n",
              "      <td>54.0</td>\n",
              "      <td>male</td>\n",
              "      <td>19.0</td>\n",
              "      <td>Business</td>\n",
              "      <td>BusinessWithIT</td>\n",
              "      <td>Kinaesthetic</td>\n",
              "      <td>Strategic</td>\n",
              "      <td>Fail</td>\n",
              "    </tr>\n",
              "    <tr>\n",
              "      <th>2</th>\n",
              "      <td>8.5</td>\n",
              "      <td>2.3</td>\n",
              "      <td>4.3</td>\n",
              "      <td>4.3</td>\n",
              "      <td>NaN</td>\n",
              "      <td>6.3</td>\n",
              "      <td>5.3</td>\n",
              "      <td>3.9</td>\n",
              "      <td>4.9</td>\n",
              "      <td>57.3</td>\n",
              "      <td>63.0</td>\n",
              "      <td>48.0</td>\n",
              "      <td>male</td>\n",
              "      <td>22.0</td>\n",
              "      <td>Computing</td>\n",
              "      <td>Computing</td>\n",
              "      <td>Visual</td>\n",
              "      <td>Shallow</td>\n",
              "      <td>Fail</td>\n",
              "    </tr>\n",
              "    <tr>\n",
              "      <th>3</th>\n",
              "      <td>9.1</td>\n",
              "      <td>6.7</td>\n",
              "      <td>4.6</td>\n",
              "      <td>5.1</td>\n",
              "      <td>NaN</td>\n",
              "      <td>6.6</td>\n",
              "      <td>6.9</td>\n",
              "      <td>4.0</td>\n",
              "      <td>5.6</td>\n",
              "      <td>52.5</td>\n",
              "      <td>55.0</td>\n",
              "      <td>43.0</td>\n",
              "      <td>male</td>\n",
              "      <td>18.0</td>\n",
              "      <td>Computing</td>\n",
              "      <td>Computing</td>\n",
              "      <td>Visual</td>\n",
              "      <td>Shallow</td>\n",
              "      <td>Fail</td>\n",
              "    </tr>\n",
              "    <tr>\n",
              "      <th>4</th>\n",
              "      <td>7.1</td>\n",
              "      <td>0.8</td>\n",
              "      <td>4.7</td>\n",
              "      <td>3.8</td>\n",
              "      <td>NaN</td>\n",
              "      <td>6.4</td>\n",
              "      <td>5.6</td>\n",
              "      <td>4.2</td>\n",
              "      <td>4.9</td>\n",
              "      <td>66.6</td>\n",
              "      <td>71.0</td>\n",
              "      <td>51.0</td>\n",
              "      <td>male</td>\n",
              "      <td>24.0</td>\n",
              "      <td>Computing</td>\n",
              "      <td>Computing</td>\n",
              "      <td>Visual</td>\n",
              "      <td>Shallow</td>\n",
              "      <td>Fail</td>\n",
              "    </tr>\n",
              "  </tbody>\n",
              "</table>\n",
              "</div>"
            ],
            "text/plain": [
              "   ExtrinsicMotivation  GroupWork  ...  LearningStyle  Label\n",
              "0                  7.2        7.5  ...           Deep   Pass\n",
              "1                  6.6        5.5  ...      Strategic   Fail\n",
              "2                  8.5        2.3  ...        Shallow   Fail\n",
              "3                  9.1        6.7  ...        Shallow   Fail\n",
              "4                  7.1        0.8  ...        Shallow   Fail\n",
              "\n",
              "[5 rows x 19 columns]"
            ]
          },
          "metadata": {},
          "execution_count": 20
        }
      ]
    },
    {
      "cell_type": "code",
      "metadata": {
        "colab": {
          "base_uri": "https://localhost:8080/",
          "height": 588
        },
        "id": "opOfn54Wopzx",
        "outputId": "cc5c5f09-d38b-4f39-f7e3-7040afb86f40"
      },
      "source": [
        "# Pie chart to display the amount (percentage) distribution of the Target Variable\n",
        "\n",
        "labels = 'Pass', 'Fail'\n",
        "sizes = [data1.Label[data1['Label']=='Pass'].count(), data1.Label[data1['Label']=='Fail'].count()]\n",
        "explode = (0, 0.1)\n",
        "fig1, ax1 = plt.subplots(figsize=(12, 10))\n",
        "ax1.pie(sizes, explode=explode, labels=labels, autopct='%1.1f%%',\n",
        "        shadow=True, startangle=90)\n",
        "ax1.axis('equal')\n",
        "plt.title(\"Proportion of Student's Result\", size = 10)\n",
        "plt.show()"
      ],
      "execution_count": 21,
      "outputs": [
        {
          "output_type": "display_data",
          "data": {
            "image/png": "[encoded data removed]",
            "text/plain": [
              "<Figure size 864x720 with 1 Axes>"
            ]
          },
          "metadata": {}
        }
      ]
    },
    {
      "cell_type": "code",
      "metadata": {
        "colab": {
          "base_uri": "https://localhost:8080/"
        },
        "id": "tEBTeMFxpljA",
        "outputId": "270fd461-3524-46c1-f596-1017a29ee7f0"
      },
      "source": [
        "data1.dtypes"
      ],
      "execution_count": 22,
      "outputs": [
        {
          "output_type": "execute_result",
          "data": {
            "text/plain": [
              "ExtrinsicMotivation    float64\n",
              "GroupWork              float64\n",
              "IntrinsicMotivation    float64\n",
              "SelfEfficacy           float64\n",
              "SelfRegulation         float64\n",
              "StudyEffort            float64\n",
              "StudyTime              float64\n",
              "Openness               float64\n",
              "Conscientiousness      float64\n",
              "HighSchoolAverage      float64\n",
              "HighSchoolEnglish      float64\n",
              "HighSchoolMaths        float64\n",
              "Sex                     object\n",
              "Age                    float64\n",
              "Discipline              object\n",
              "Course                  object\n",
              "Modality                object\n",
              "LearningStyle           object\n",
              "Label                   object\n",
              "dtype: object"
            ]
          },
          "metadata": {},
          "execution_count": 22
        }
      ]
    },
    {
      "cell_type": "code",
      "metadata": {
        "colab": {
          "base_uri": "https://localhost:8080/",
          "height": 1000
        },
        "id": "P-ASXMlVpa2G",
        "outputId": "2399c2b7-3c84-4c49-ad66-39cddca2f6d4"
      },
      "source": [
        "fig, ax = plt.subplots(nrows=5, ncols=1, figsize=(16, 20))\n",
        "\n",
        "cols_ = [\"Sex\", \"Discipline\", \"Course\", \"Modality\", \"LearningStyle\"]\n",
        "\n",
        "for ind, col in enumerate(cols_):\n",
        "    sns.countplot(x=col, data=data1, ax=ax[ind])"
      ],
      "execution_count": 23,
      "outputs": [
        {
          "output_type": "display_data",
          "data": {
            "image/png": "[encoded data removed]",
            "text/plain": [
              "<Figure size 1152x1440 with 5 Axes>"
            ]
          },
          "metadata": {
            "needs_background": "light"
          }
        }
      ]
    },
    {
      "cell_type": "code",
      "metadata": {
        "colab": {
          "base_uri": "https://localhost:8080/",
          "height": 814
        },
        "id": "CYKl045eqAel",
        "outputId": "83bb5702-3db4-40fb-a43d-af21c698ddc3"
      },
      "source": [
        "# Count column plots to map the dependence of 'Label' column on categorical features\n",
        "\n",
        "fig, ax = plt.subplots(2, 2, figsize=(35, 20))\n",
        "\n",
        "sns.countplot(x='Sex', hue='Label', data=data1, palette='Set2', ax=ax[0][0])\n",
        "sns.countplot(x='Discipline', hue='Label', data=data1, palette='Set2', ax=ax[0][1])\n",
        "sns.countplot(x='Course', hue='Label', data=data1, palette='Set2', ax=ax[1][0])\n",
        "sns.countplot(x='LearningStyle', hue='Label', data=data1, palette='Set2', ax=ax[1][1])\n",
        "\n",
        "plt.show()"
      ],
      "execution_count": 24,
      "outputs": [
        {
          "output_type": "display_data",
          "data": {
            "image/png": "[encoded data removed]",
            "text/plain": [
              "<Figure size 2520x1440 with 4 Axes>"
            ]
          },
          "metadata": {
            "needs_background": "light"
          }
        }
      ]
    },
    {
      "cell_type": "code",
      "metadata": {
        "id": "bE9uPjbiq9XG"
      },
      "source": [
        "numerics = ['int16', 'int32', 'int64', 'float16', 'float32', 'float64']\n",
        "\n",
        "num_cols = data1.select_dtypes(include=numerics)"
      ],
      "execution_count": 25,
      "outputs": []
    },
    {
      "cell_type": "code",
      "metadata": {
        "colab": {
          "base_uri": "https://localhost:8080/",
          "height": 443
        },
        "id": "QSRhWrkIscVX",
        "outputId": "e4024997-8e0f-4e3b-9838-8edb67509c7b"
      },
      "source": [
        "num_cols"
      ],
      "execution_count": 26,
      "outputs": [
        {
          "output_type": "execute_result",
          "data": {
            "text/html": [
              "<div>\n",
              "<style scoped>\n",
              "    .dataframe tbody tr th:only-of-type {\n",
              "        vertical-align: middle;\n",
              "    }\n",
              "\n",
              "    .dataframe tbody tr th {\n",
              "        vertical-align: top;\n",
              "    }\n",
              "\n",
              "    .dataframe thead th {\n",
              "        text-align: right;\n",
              "    }\n",
              "</style>\n",
              "<table border=\"1\" class=\"dataframe\">\n",
              "  <thead>\n",
              "    <tr style=\"text-align: right;\">\n",
              "      <th></th>\n",
              "      <th>ExtrinsicMotivation</th>\n",
              "      <th>GroupWork</th>\n",
              "      <th>IntrinsicMotivation</th>\n",
              "      <th>SelfEfficacy</th>\n",
              "      <th>SelfRegulation</th>\n",
              "      <th>StudyEffort</th>\n",
              "      <th>StudyTime</th>\n",
              "      <th>Openness</th>\n",
              "      <th>Conscientiousness</th>\n",
              "      <th>HighSchoolAverage</th>\n",
              "      <th>HighSchoolEnglish</th>\n",
              "      <th>HighSchoolMaths</th>\n",
              "      <th>Age</th>\n",
              "    </tr>\n",
              "  </thead>\n",
              "  <tbody>\n",
              "    <tr>\n",
              "      <th>0</th>\n",
              "      <td>7.2</td>\n",
              "      <td>7.5</td>\n",
              "      <td>5.2</td>\n",
              "      <td>8.9</td>\n",
              "      <td>NaN</td>\n",
              "      <td>4.4</td>\n",
              "      <td>5.3</td>\n",
              "      <td>7.9</td>\n",
              "      <td>6.6</td>\n",
              "      <td>67.9</td>\n",
              "      <td>74.0</td>\n",
              "      <td>63.0</td>\n",
              "      <td>19.0</td>\n",
              "    </tr>\n",
              "    <tr>\n",
              "      <th>1</th>\n",
              "      <td>6.6</td>\n",
              "      <td>5.5</td>\n",
              "      <td>2.3</td>\n",
              "      <td>2.8</td>\n",
              "      <td>NaN</td>\n",
              "      <td>3.1</td>\n",
              "      <td>4.4</td>\n",
              "      <td>2.8</td>\n",
              "      <td>3.3</td>\n",
              "      <td>66.1</td>\n",
              "      <td>63.0</td>\n",
              "      <td>54.0</td>\n",
              "      <td>19.0</td>\n",
              "    </tr>\n",
              "    <tr>\n",
              "      <th>2</th>\n",
              "      <td>8.5</td>\n",
              "      <td>2.3</td>\n",
              "      <td>4.3</td>\n",
              "      <td>4.3</td>\n",
              "      <td>NaN</td>\n",
              "      <td>6.3</td>\n",
              "      <td>5.3</td>\n",
              "      <td>3.9</td>\n",
              "      <td>4.9</td>\n",
              "      <td>57.3</td>\n",
              "      <td>63.0</td>\n",
              "      <td>48.0</td>\n",
              "      <td>22.0</td>\n",
              "    </tr>\n",
              "    <tr>\n",
              "      <th>3</th>\n",
              "      <td>9.1</td>\n",
              "      <td>6.7</td>\n",
              "      <td>4.6</td>\n",
              "      <td>5.1</td>\n",
              "      <td>NaN</td>\n",
              "      <td>6.6</td>\n",
              "      <td>6.9</td>\n",
              "      <td>4.0</td>\n",
              "      <td>5.6</td>\n",
              "      <td>52.5</td>\n",
              "      <td>55.0</td>\n",
              "      <td>43.0</td>\n",
              "      <td>18.0</td>\n",
              "    </tr>\n",
              "    <tr>\n",
              "      <th>4</th>\n",
              "      <td>7.1</td>\n",
              "      <td>0.8</td>\n",
              "      <td>4.7</td>\n",
              "      <td>3.8</td>\n",
              "      <td>NaN</td>\n",
              "      <td>6.4</td>\n",
              "      <td>5.6</td>\n",
              "      <td>4.2</td>\n",
              "      <td>4.9</td>\n",
              "      <td>66.6</td>\n",
              "      <td>71.0</td>\n",
              "      <td>51.0</td>\n",
              "      <td>24.0</td>\n",
              "    </tr>\n",
              "    <tr>\n",
              "      <th>...</th>\n",
              "      <td>...</td>\n",
              "      <td>...</td>\n",
              "      <td>...</td>\n",
              "      <td>...</td>\n",
              "      <td>...</td>\n",
              "      <td>...</td>\n",
              "      <td>...</td>\n",
              "      <td>...</td>\n",
              "      <td>...</td>\n",
              "      <td>...</td>\n",
              "      <td>...</td>\n",
              "      <td>...</td>\n",
              "      <td>...</td>\n",
              "    </tr>\n",
              "    <tr>\n",
              "      <th>1235</th>\n",
              "      <td>1.8</td>\n",
              "      <td>9.7</td>\n",
              "      <td>5.6</td>\n",
              "      <td>NaN</td>\n",
              "      <td>NaN</td>\n",
              "      <td>6.9</td>\n",
              "      <td>2.4</td>\n",
              "      <td>4.0</td>\n",
              "      <td>1.9</td>\n",
              "      <td>NaN</td>\n",
              "      <td>NaN</td>\n",
              "      <td>NaN</td>\n",
              "      <td>NaN</td>\n",
              "    </tr>\n",
              "    <tr>\n",
              "      <th>1236</th>\n",
              "      <td>8.6</td>\n",
              "      <td>7.5</td>\n",
              "      <td>4.5</td>\n",
              "      <td>5.8</td>\n",
              "      <td>NaN</td>\n",
              "      <td>8.2</td>\n",
              "      <td>NaN</td>\n",
              "      <td>1.1</td>\n",
              "      <td>6.2</td>\n",
              "      <td>NaN</td>\n",
              "      <td>NaN</td>\n",
              "      <td>NaN</td>\n",
              "      <td>NaN</td>\n",
              "    </tr>\n",
              "    <tr>\n",
              "      <th>1237</th>\n",
              "      <td>9.0</td>\n",
              "      <td>NaN</td>\n",
              "      <td>NaN</td>\n",
              "      <td>8.2</td>\n",
              "      <td>NaN</td>\n",
              "      <td>NaN</td>\n",
              "      <td>8.3</td>\n",
              "      <td>6.8</td>\n",
              "      <td>5.5</td>\n",
              "      <td>NaN</td>\n",
              "      <td>NaN</td>\n",
              "      <td>NaN</td>\n",
              "      <td>NaN</td>\n",
              "    </tr>\n",
              "    <tr>\n",
              "      <th>1238</th>\n",
              "      <td>7.0</td>\n",
              "      <td>6.4</td>\n",
              "      <td>1.8</td>\n",
              "      <td>6.2</td>\n",
              "      <td>NaN</td>\n",
              "      <td>4.8</td>\n",
              "      <td>NaN</td>\n",
              "      <td>9.2</td>\n",
              "      <td>2.1</td>\n",
              "      <td>NaN</td>\n",
              "      <td>NaN</td>\n",
              "      <td>NaN</td>\n",
              "      <td>NaN</td>\n",
              "    </tr>\n",
              "    <tr>\n",
              "      <th>1239</th>\n",
              "      <td>NaN</td>\n",
              "      <td>8.6</td>\n",
              "      <td>NaN</td>\n",
              "      <td>5.3</td>\n",
              "      <td>NaN</td>\n",
              "      <td>4.7</td>\n",
              "      <td>4.0</td>\n",
              "      <td>3.6</td>\n",
              "      <td>2.9</td>\n",
              "      <td>NaN</td>\n",
              "      <td>NaN</td>\n",
              "      <td>NaN</td>\n",
              "      <td>NaN</td>\n",
              "    </tr>\n",
              "  </tbody>\n",
              "</table>\n",
              "<p>1240 rows × 13 columns</p>\n",
              "</div>"
            ],
            "text/plain": [
              "      ExtrinsicMotivation  GroupWork  ...  HighSchoolMaths   Age\n",
              "0                     7.2        7.5  ...             63.0  19.0\n",
              "1                     6.6        5.5  ...             54.0  19.0\n",
              "2                     8.5        2.3  ...             48.0  22.0\n",
              "3                     9.1        6.7  ...             43.0  18.0\n",
              "4                     7.1        0.8  ...             51.0  24.0\n",
              "...                   ...        ...  ...              ...   ...\n",
              "1235                  1.8        9.7  ...              NaN   NaN\n",
              "1236                  8.6        7.5  ...              NaN   NaN\n",
              "1237                  9.0        NaN  ...              NaN   NaN\n",
              "1238                  7.0        6.4  ...              NaN   NaN\n",
              "1239                  NaN        8.6  ...              NaN   NaN\n",
              "\n",
              "[1240 rows x 13 columns]"
            ]
          },
          "metadata": {},
          "execution_count": 26
        }
      ]
    },
    {
      "cell_type": "code",
      "metadata": {
        "colab": {
          "base_uri": "https://localhost:8080/",
          "height": 683
        },
        "id": "Gnu8Mzo9seGH",
        "outputId": "572e284c-ab30-4df0-8b9a-a16809e7fb17"
      },
      "source": [
        "# Displaying Correlation between varaibles using heatmap\n",
        "\n",
        "import seaborn as sns\n",
        "import matplotlib.pyplot as plt\n",
        "plt.figure(figsize=(15,10))\n",
        "cor = num_cols.corr()\n",
        "sns.heatmap(cor, annot=True, cmap=plt.cm.CMRmap_r)\n",
        "plt.show()"
      ],
      "execution_count": 46,
      "outputs": [
        {
          "output_type": "display_data",
          "data": {
            "image/png": "[encoded data removed]",
            "text/plain": [
              "<Figure size 1080x720 with 2 Axes>"
            ]
          },
          "metadata": {
            "needs_background": "light"
          }
        }
      ]
    },
    {
      "cell_type": "markdown",
      "metadata": {
        "id": "uuZvrktct4l_"
      },
      "source": [
        "**Handle Missing Values**"
      ]
    },
    {
      "cell_type": "code",
      "metadata": {
        "id": "nmI4WIFpuFf8"
      },
      "source": [
        "data1['Sex'].fillna(data1['Sex'].mode()[0], inplace=True) # Mode\n",
        "data1['Discipline'].fillna(data1['Discipline'].mode()[0], inplace=True) # Mode\n",
        "data1['Course'].fillna(data1['Course'].mode()[0], inplace=True) # Mode\n",
        "data1['Modality'].fillna(data1['Modality'].mode()[0], inplace=True) # Mode\n",
        "\n",
        "data1['Age'].fillna(data1['Age'].mean(), inplace=True) # Mean\n",
        "data1['HighSchoolMaths'].fillna(data1['HighSchoolMaths'].mean(), inplace=True) # Mean\n",
        "data1['HighSchoolEnglish'].fillna(data1['HighSchoolEnglish'].mean(), inplace=True) # Mean\n",
        "data1['HighSchoolAverage'].fillna(data1['HighSchoolAverage'].mean(), inplace=True) # Mean\n",
        "data1['StudyTime'].fillna(data1['StudyTime'].mean(), inplace=True) # Mean\n",
        "data1['StudyEffort'].fillna(data1['StudyEffort'].mean(), inplace=True) # Mean\n",
        "data1['SelfEfficacy'].fillna(data1['SelfEfficacy'].mean(), inplace=True) # Mean\n",
        "data1['IntrinsicMotivation'].fillna(data1['IntrinsicMotivation'].mean(), inplace=True) # Mean\n",
        "data1['GroupWork'].fillna(data1['GroupWork'].mean(), inplace=True) # Mean\n",
        "data1['ExtrinsicMotivation'].fillna(data1['ExtrinsicMotivation'].mean(), inplace=True) # Mean"
      ],
      "execution_count": 49,
      "outputs": []
    },
    {
      "cell_type": "code",
      "metadata": {
        "colab": {
          "base_uri": "https://localhost:8080/"
        },
        "id": "NKuYLy4QxctD",
        "outputId": "2749e232-30ef-4a64-8131-05b758d0353d"
      },
      "source": [
        "data1.isnull().sum()"
      ],
      "execution_count": 30,
      "outputs": [
        {
          "output_type": "execute_result",
          "data": {
            "text/plain": [
              "ExtrinsicMotivation      0\n",
              "GroupWork                0\n",
              "IntrinsicMotivation      0\n",
              "SelfEfficacy             0\n",
              "SelfRegulation         936\n",
              "StudyEffort              0\n",
              "StudyTime                0\n",
              "Openness                 0\n",
              "Conscientiousness        0\n",
              "HighSchoolAverage        0\n",
              "HighSchoolEnglish        0\n",
              "HighSchoolMaths          0\n",
              "Sex                      0\n",
              "Age                      0\n",
              "Discipline               0\n",
              "Course                   0\n",
              "Modality                 0\n",
              "LearningStyle            0\n",
              "Label                    0\n",
              "dtype: int64"
            ]
          },
          "metadata": {},
          "execution_count": 30
        }
      ]
    },
    {
      "cell_type": "code",
      "metadata": {
        "id": "lRafr12cxhgK"
      },
      "source": [
        "data1 = data1.drop(columns=['SelfRegulation'])"
      ],
      "execution_count": 31,
      "outputs": []
    },
    {
      "cell_type": "code",
      "metadata": {
        "colab": {
          "base_uri": "https://localhost:8080/",
          "height": 226
        },
        "id": "Xw8tDCGLxwgw",
        "outputId": "7226eebe-8ee9-4fe4-cf04-109ee4e17daa"
      },
      "source": [
        "data1.head()"
      ],
      "execution_count": 32,
      "outputs": [
        {
          "output_type": "execute_result",
          "data": {
            "text/html": [
              "<div>\n",
              "<style scoped>\n",
              "    .dataframe tbody tr th:only-of-type {\n",
              "        vertical-align: middle;\n",
              "    }\n",
              "\n",
              "    .dataframe tbody tr th {\n",
              "        vertical-align: top;\n",
              "    }\n",
              "\n",
              "    .dataframe thead th {\n",
              "        text-align: right;\n",
              "    }\n",
              "</style>\n",
              "<table border=\"1\" class=\"dataframe\">\n",
              "  <thead>\n",
              "    <tr style=\"text-align: right;\">\n",
              "      <th></th>\n",
              "      <th>ExtrinsicMotivation</th>\n",
              "      <th>GroupWork</th>\n",
              "      <th>IntrinsicMotivation</th>\n",
              "      <th>SelfEfficacy</th>\n",
              "      <th>StudyEffort</th>\n",
              "      <th>StudyTime</th>\n",
              "      <th>Openness</th>\n",
              "      <th>Conscientiousness</th>\n",
              "      <th>HighSchoolAverage</th>\n",
              "      <th>HighSchoolEnglish</th>\n",
              "      <th>HighSchoolMaths</th>\n",
              "      <th>Sex</th>\n",
              "      <th>Age</th>\n",
              "      <th>Discipline</th>\n",
              "      <th>Course</th>\n",
              "      <th>Modality</th>\n",
              "      <th>LearningStyle</th>\n",
              "      <th>Label</th>\n",
              "    </tr>\n",
              "  </thead>\n",
              "  <tbody>\n",
              "    <tr>\n",
              "      <th>0</th>\n",
              "      <td>7.2</td>\n",
              "      <td>7.5</td>\n",
              "      <td>5.2</td>\n",
              "      <td>8.9</td>\n",
              "      <td>4.4</td>\n",
              "      <td>5.3</td>\n",
              "      <td>7.9</td>\n",
              "      <td>6.6</td>\n",
              "      <td>67.9</td>\n",
              "      <td>74.0</td>\n",
              "      <td>63.0</td>\n",
              "      <td>male</td>\n",
              "      <td>19.0</td>\n",
              "      <td>Business</td>\n",
              "      <td>BusinessWithIT</td>\n",
              "      <td>Visual</td>\n",
              "      <td>Deep</td>\n",
              "      <td>Pass</td>\n",
              "    </tr>\n",
              "    <tr>\n",
              "      <th>1</th>\n",
              "      <td>6.6</td>\n",
              "      <td>5.5</td>\n",
              "      <td>2.3</td>\n",
              "      <td>2.8</td>\n",
              "      <td>3.1</td>\n",
              "      <td>4.4</td>\n",
              "      <td>2.8</td>\n",
              "      <td>3.3</td>\n",
              "      <td>66.1</td>\n",
              "      <td>63.0</td>\n",
              "      <td>54.0</td>\n",
              "      <td>male</td>\n",
              "      <td>19.0</td>\n",
              "      <td>Business</td>\n",
              "      <td>BusinessWithIT</td>\n",
              "      <td>Kinaesthetic</td>\n",
              "      <td>Strategic</td>\n",
              "      <td>Fail</td>\n",
              "    </tr>\n",
              "    <tr>\n",
              "      <th>2</th>\n",
              "      <td>8.5</td>\n",
              "      <td>2.3</td>\n",
              "      <td>4.3</td>\n",
              "      <td>4.3</td>\n",
              "      <td>6.3</td>\n",
              "      <td>5.3</td>\n",
              "      <td>3.9</td>\n",
              "      <td>4.9</td>\n",
              "      <td>57.3</td>\n",
              "      <td>63.0</td>\n",
              "      <td>48.0</td>\n",
              "      <td>male</td>\n",
              "      <td>22.0</td>\n",
              "      <td>Computing</td>\n",
              "      <td>Computing</td>\n",
              "      <td>Visual</td>\n",
              "      <td>Shallow</td>\n",
              "      <td>Fail</td>\n",
              "    </tr>\n",
              "    <tr>\n",
              "      <th>3</th>\n",
              "      <td>9.1</td>\n",
              "      <td>6.7</td>\n",
              "      <td>4.6</td>\n",
              "      <td>5.1</td>\n",
              "      <td>6.6</td>\n",
              "      <td>6.9</td>\n",
              "      <td>4.0</td>\n",
              "      <td>5.6</td>\n",
              "      <td>52.5</td>\n",
              "      <td>55.0</td>\n",
              "      <td>43.0</td>\n",
              "      <td>male</td>\n",
              "      <td>18.0</td>\n",
              "      <td>Computing</td>\n",
              "      <td>Computing</td>\n",
              "      <td>Visual</td>\n",
              "      <td>Shallow</td>\n",
              "      <td>Fail</td>\n",
              "    </tr>\n",
              "    <tr>\n",
              "      <th>4</th>\n",
              "      <td>7.1</td>\n",
              "      <td>0.8</td>\n",
              "      <td>4.7</td>\n",
              "      <td>3.8</td>\n",
              "      <td>6.4</td>\n",
              "      <td>5.6</td>\n",
              "      <td>4.2</td>\n",
              "      <td>4.9</td>\n",
              "      <td>66.6</td>\n",
              "      <td>71.0</td>\n",
              "      <td>51.0</td>\n",
              "      <td>male</td>\n",
              "      <td>24.0</td>\n",
              "      <td>Computing</td>\n",
              "      <td>Computing</td>\n",
              "      <td>Visual</td>\n",
              "      <td>Shallow</td>\n",
              "      <td>Fail</td>\n",
              "    </tr>\n",
              "  </tbody>\n",
              "</table>\n",
              "</div>"
            ],
            "text/plain": [
              "   ExtrinsicMotivation  GroupWork  ...  LearningStyle  Label\n",
              "0                  7.2        7.5  ...           Deep   Pass\n",
              "1                  6.6        5.5  ...      Strategic   Fail\n",
              "2                  8.5        2.3  ...        Shallow   Fail\n",
              "3                  9.1        6.7  ...        Shallow   Fail\n",
              "4                  7.1        0.8  ...        Shallow   Fail\n",
              "\n",
              "[5 rows x 18 columns]"
            ]
          },
          "metadata": {},
          "execution_count": 32
        }
      ]
    },
    {
      "cell_type": "code",
      "metadata": {
        "id": "989Clnkoxxzb"
      },
      "source": [
        "from sklearn.preprocessing import LabelEncoder\n",
        "feature_col = ['Sex', 'Discipline', 'Course', 'Modality', 'LearningStyle', 'Label']\n",
        "le = LabelEncoder()\n",
        "for col in feature_col:\n",
        "  data1[col] = le.fit_transform(data1[col])"
      ],
      "execution_count": 33,
      "outputs": []
    },
    {
      "cell_type": "code",
      "metadata": {
        "colab": {
          "base_uri": "https://localhost:8080/",
          "height": 226
        },
        "id": "EzqglQJayX8R",
        "outputId": "2f17f751-2a0e-419d-95b2-c854a0b88ada"
      },
      "source": [
        "data1.head()"
      ],
      "execution_count": 34,
      "outputs": [
        {
          "output_type": "execute_result",
          "data": {
            "text/html": [
              "<div>\n",
              "<style scoped>\n",
              "    .dataframe tbody tr th:only-of-type {\n",
              "        vertical-align: middle;\n",
              "    }\n",
              "\n",
              "    .dataframe tbody tr th {\n",
              "        vertical-align: top;\n",
              "    }\n",
              "\n",
              "    .dataframe thead th {\n",
              "        text-align: right;\n",
              "    }\n",
              "</style>\n",
              "<table border=\"1\" class=\"dataframe\">\n",
              "  <thead>\n",
              "    <tr style=\"text-align: right;\">\n",
              "      <th></th>\n",
              "      <th>ExtrinsicMotivation</th>\n",
              "      <th>GroupWork</th>\n",
              "      <th>IntrinsicMotivation</th>\n",
              "      <th>SelfEfficacy</th>\n",
              "      <th>StudyEffort</th>\n",
              "      <th>StudyTime</th>\n",
              "      <th>Openness</th>\n",
              "      <th>Conscientiousness</th>\n",
              "      <th>HighSchoolAverage</th>\n",
              "      <th>HighSchoolEnglish</th>\n",
              "      <th>HighSchoolMaths</th>\n",
              "      <th>Sex</th>\n",
              "      <th>Age</th>\n",
              "      <th>Discipline</th>\n",
              "      <th>Course</th>\n",
              "      <th>Modality</th>\n",
              "      <th>LearningStyle</th>\n",
              "      <th>Label</th>\n",
              "    </tr>\n",
              "  </thead>\n",
              "  <tbody>\n",
              "    <tr>\n",
              "      <th>0</th>\n",
              "      <td>7.2</td>\n",
              "      <td>7.5</td>\n",
              "      <td>5.2</td>\n",
              "      <td>8.9</td>\n",
              "      <td>4.4</td>\n",
              "      <td>5.3</td>\n",
              "      <td>7.9</td>\n",
              "      <td>6.6</td>\n",
              "      <td>67.9</td>\n",
              "      <td>74.0</td>\n",
              "      <td>63.0</td>\n",
              "      <td>1</td>\n",
              "      <td>19.0</td>\n",
              "      <td>0</td>\n",
              "      <td>2</td>\n",
              "      <td>2</td>\n",
              "      <td>0</td>\n",
              "      <td>1</td>\n",
              "    </tr>\n",
              "    <tr>\n",
              "      <th>1</th>\n",
              "      <td>6.6</td>\n",
              "      <td>5.5</td>\n",
              "      <td>2.3</td>\n",
              "      <td>2.8</td>\n",
              "      <td>3.1</td>\n",
              "      <td>4.4</td>\n",
              "      <td>2.8</td>\n",
              "      <td>3.3</td>\n",
              "      <td>66.1</td>\n",
              "      <td>63.0</td>\n",
              "      <td>54.0</td>\n",
              "      <td>1</td>\n",
              "      <td>19.0</td>\n",
              "      <td>0</td>\n",
              "      <td>2</td>\n",
              "      <td>1</td>\n",
              "      <td>2</td>\n",
              "      <td>0</td>\n",
              "    </tr>\n",
              "    <tr>\n",
              "      <th>2</th>\n",
              "      <td>8.5</td>\n",
              "      <td>2.3</td>\n",
              "      <td>4.3</td>\n",
              "      <td>4.3</td>\n",
              "      <td>6.3</td>\n",
              "      <td>5.3</td>\n",
              "      <td>3.9</td>\n",
              "      <td>4.9</td>\n",
              "      <td>57.3</td>\n",
              "      <td>63.0</td>\n",
              "      <td>48.0</td>\n",
              "      <td>1</td>\n",
              "      <td>22.0</td>\n",
              "      <td>1</td>\n",
              "      <td>4</td>\n",
              "      <td>2</td>\n",
              "      <td>1</td>\n",
              "      <td>0</td>\n",
              "    </tr>\n",
              "    <tr>\n",
              "      <th>3</th>\n",
              "      <td>9.1</td>\n",
              "      <td>6.7</td>\n",
              "      <td>4.6</td>\n",
              "      <td>5.1</td>\n",
              "      <td>6.6</td>\n",
              "      <td>6.9</td>\n",
              "      <td>4.0</td>\n",
              "      <td>5.6</td>\n",
              "      <td>52.5</td>\n",
              "      <td>55.0</td>\n",
              "      <td>43.0</td>\n",
              "      <td>1</td>\n",
              "      <td>18.0</td>\n",
              "      <td>1</td>\n",
              "      <td>4</td>\n",
              "      <td>2</td>\n",
              "      <td>1</td>\n",
              "      <td>0</td>\n",
              "    </tr>\n",
              "    <tr>\n",
              "      <th>4</th>\n",
              "      <td>7.1</td>\n",
              "      <td>0.8</td>\n",
              "      <td>4.7</td>\n",
              "      <td>3.8</td>\n",
              "      <td>6.4</td>\n",
              "      <td>5.6</td>\n",
              "      <td>4.2</td>\n",
              "      <td>4.9</td>\n",
              "      <td>66.6</td>\n",
              "      <td>71.0</td>\n",
              "      <td>51.0</td>\n",
              "      <td>1</td>\n",
              "      <td>24.0</td>\n",
              "      <td>1</td>\n",
              "      <td>4</td>\n",
              "      <td>2</td>\n",
              "      <td>1</td>\n",
              "      <td>0</td>\n",
              "    </tr>\n",
              "  </tbody>\n",
              "</table>\n",
              "</div>"
            ],
            "text/plain": [
              "   ExtrinsicMotivation  GroupWork  ...  LearningStyle  Label\n",
              "0                  7.2        7.5  ...              0      1\n",
              "1                  6.6        5.5  ...              2      0\n",
              "2                  8.5        2.3  ...              1      0\n",
              "3                  9.1        6.7  ...              1      0\n",
              "4                  7.1        0.8  ...              1      0\n",
              "\n",
              "[5 rows x 18 columns]"
            ]
          },
          "metadata": {},
          "execution_count": 34
        }
      ]
    },
    {
      "cell_type": "code",
      "metadata": {
        "id": "rrJynN1Qyedz"
      },
      "source": [
        "########## Split Features and Target Varible ############\n",
        "X = data1.drop('Label', axis = 1)\n",
        "y = data1['Label']"
      ],
      "execution_count": 50,
      "outputs": []
    },
    {
      "cell_type": "code",
      "metadata": {
        "id": "tKYQBPanyqxW"
      },
      "source": [
        "################# Splitting into Train -Test Data #######\n",
        "from sklearn.model_selection import train_test_split\n",
        "X_train,X_test,y_train,y_test = train_test_split(X,y,test_size=0.2,random_state =10)"
      ],
      "execution_count": 51,
      "outputs": []
    },
    {
      "cell_type": "code",
      "metadata": {
        "colab": {
          "base_uri": "https://localhost:8080/"
        },
        "id": "h27VDoAyyzM1",
        "outputId": "75eab134-c9b8-4e52-8d31-47acf437ceca"
      },
      "source": [
        "X_train.shape, X_test.shape, y_train.shape, y_test.shape"
      ],
      "execution_count": 52,
      "outputs": [
        {
          "output_type": "execute_result",
          "data": {
            "text/plain": [
              "((992, 17), (248, 17), (992,), (248,))"
            ]
          },
          "metadata": {},
          "execution_count": 52
        }
      ]
    },
    {
      "cell_type": "code",
      "metadata": {
        "id": "cwaBgIOMvgpm"
      },
      "source": [
        "from sklearn.neighbors import KNeighborsClassifier"
      ],
      "execution_count": 54,
      "outputs": []
    },
    {
      "cell_type": "code",
      "metadata": {
        "colab": {
          "base_uri": "https://localhost:8080/"
        },
        "id": "ZYuKtMrZvgj7",
        "outputId": "03b07d2f-3b91-4d26-cdcf-51f6047d667a"
      },
      "source": [
        "from sklearn import metrics\n",
        "\n",
        "k_range = list(range(3, 12))\n",
        "acc = []\n",
        "for i in k_range:\n",
        "    \n",
        "    knn = KNeighborsClassifier(n_neighbors = i).fit(X_train, y_train)\n",
        "    y_pred = knn.predict(X_test)\n",
        "    acc.append(metrics.accuracy_score(y_test, y_pred))\n",
        "    \n",
        "    \n",
        "acc"
      ],
      "execution_count": 39,
      "outputs": [
        {
          "output_type": "execute_result",
          "data": {
            "text/plain": [
              "[0.8104838709677419,\n",
              " 0.8064516129032258,\n",
              " 0.7943548387096774,\n",
              " 0.782258064516129,\n",
              " 0.782258064516129,\n",
              " 0.7903225806451613,\n",
              " 0.782258064516129,\n",
              " 0.7782258064516129,\n",
              " 0.7903225806451613]"
            ]
          },
          "metadata": {},
          "execution_count": 39
        }
      ]
    },
    {
      "cell_type": "code",
      "metadata": {
        "id": "4yI3_T6QvgdB"
      },
      "source": [
        "knn_model = KNeighborsClassifier(n_neighbors = 3).fit(X_train, y_train)\n",
        "pred = knn_model.predict(X_test)"
      ],
      "execution_count": 40,
      "outputs": []
    },
    {
      "cell_type": "code",
      "metadata": {
        "colab": {
          "base_uri": "https://localhost:8080/"
        },
        "id": "LEIpIR5gvgXJ",
        "outputId": "4ee4c29d-190b-4705-8886-64fa3601c133"
      },
      "source": [
        "metrics.accuracy_score(y_test, pred)"
      ],
      "execution_count": 41,
      "outputs": [
        {
          "output_type": "execute_result",
          "data": {
            "text/plain": [
              "0.8104838709677419"
            ]
          },
          "metadata": {},
          "execution_count": 41
        }
      ]
    },
    {
      "cell_type": "code",
      "metadata": {
        "colab": {
          "base_uri": "https://localhost:8080/"
        },
        "id": "qxODM8QYvgHc",
        "outputId": "e765b30b-632f-4b66-fed7-7289e1bb6602"
      },
      "source": [
        "# Naive Bayes Classifier\n",
        "from sklearn.naive_bayes import MultinomialNB\n",
        "clf = MultinomialNB()\n",
        "clf.fit(X_train, y_train)"
      ],
      "execution_count": 42,
      "outputs": [
        {
          "output_type": "execute_result",
          "data": {
            "text/plain": [
              "MultinomialNB()"
            ]
          },
          "metadata": {},
          "execution_count": 42
        }
      ]
    },
    {
      "cell_type": "code",
      "metadata": {
        "id": "oD8tgC8ovf4F"
      },
      "source": [
        "y_pred = clf.predict(X_test)"
      ],
      "execution_count": 43,
      "outputs": []
    },
    {
      "cell_type": "code",
      "metadata": {
        "colab": {
          "base_uri": "https://localhost:8080/"
        },
        "id": "qLtKXW6cwvbl",
        "outputId": "d4f917bb-dc43-4137-cee3-2a15798a7753"
      },
      "source": [
        "metrics.accuracy_score(y_test, y_pred)"
      ],
      "execution_count": 44,
      "outputs": [
        {
          "output_type": "execute_result",
          "data": {
            "text/plain": [
              "0.6975806451612904"
            ]
          },
          "metadata": {},
          "execution_count": 44
        }
      ]
    }
  ]
}